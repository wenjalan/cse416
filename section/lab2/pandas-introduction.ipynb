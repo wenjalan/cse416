{
    "metadata": {
        "kernelspec": {
            "name": "python3",
            "display_name": "Python 3 (ipykernel)",
            "language": "python"
        }
    },
    "nbformat": 4,
    "nbformat_minor": 0,
    "cells": [
        {
            "attachments": {},
            "cell_type": "markdown",
            "metadata": {},
            "source": [
                "# 1. Setting up"
            ]
        },
        {
            "attachments": {},
            "cell_type": "markdown",
            "metadata": {},
            "source": [
                "Import all required modules"
            ]
        },
        {
            "cell_type": "code",
            "execution_count": 37,
            "metadata": {},
            "outputs": [],
            "source": [
                "import numpy as np\n",
                "import pandas as pd\n",
                "\n",
                "from sklearn.model_selection import train_test_split\n",
                "from sklearn.preprocessing import StandardScaler\n",
                "from sklearn.metrics import mean_squared_error\n",
                "from sklearn.linear_model import Ridge\n",
                "from sklearn.linear_model import Lasso\n",
                "from sklearn.linear_model import LinearRegression\n",
                "from sklearn.model_selection import cross_val_score"
            ]
        },
        {
            "attachments": {},
            "cell_type": "markdown",
            "metadata": {},
            "source": [
                "Read in the weather data and view it. For additional info on the weather dataset we're using, see [this](https://corgis-edu.github.io/corgis/csv/weather/)."
            ]
        },
        {
            "cell_type": "code",
            "execution_count": 38,
            "metadata": {},
            "outputs": [],
            "source": [
                "# TODO: read in weather data and view\n",
                "data = pd.read_csv('weather.csv')"
            ]
        },
        {
            "attachments": {},
            "cell_type": "markdown",
            "metadata": {},
            "source": [
                "# 2. Pre-processing"
            ]
        },
        {
            "attachments": {},
            "cell_type": "markdown",
            "metadata": {},
            "source": [
                "We want to predict the max temperature for a particular week. **What input columns should we use?** (There are multiple reasonable answers.)"
            ]
        },
        {
            "cell_type": "code",
            "execution_count": 39,
            "metadata": {},
            "outputs": [],
            "source": [
                "input_cols = ['Date.Month', 'Date.Week of', 'Data.Temperature.Avg Temp', 'Data.Temperature.Min Temp']\n",
                "output_col = 'Data.Temperature.Max Temp'"
            ]
        },
        {
            "attachments": {},
            "cell_type": "markdown",
            "metadata": {},
            "source": [
                "Split the weather data into a training and test set and then store the input and target data seperately for each set. Use [train/test split](https://scikit-learn.org/stable/modules/generated/sklearn.model_selection.train_test_split.html) from sklearn."
            ]
        },
        {
            "cell_type": "code",
            "execution_count": 40,
            "metadata": {},
            "outputs": [],
            "source": [
                "from sklearn.model_selection import train_test_split\n",
                "train, test = train_test_split(data, test_size=0.8)\n",
                "\n",
                "train_X = train[input_cols]\n",
                "train_y = train[output_col]\n",
                "\n",
                "test_X = test[input_cols]\n",
                "test_y = test[output_col]"
            ]
        },
        {
            "attachments": {},
            "cell_type": "markdown",
            "metadata": {},
            "source": [
                "Check the shape of each set to make sure they make sense!"
            ]
        },
        {
            "cell_type": "code",
            "execution_count": 41,
            "metadata": {},
            "outputs": [
                {
                    "name": "stdout",
                    "output_type": "stream",
                    "text": "train input data shape: (3348, 4)\ntrain target data shape: (3348,)\n\ntest input data shape: (13395, 4)\ntest target data shape: (13395,)\n"
                }
            ],
            "source": [
                "print(\"train input data shape:\", train_X.shape)\n",
                "print(\"train target data shape:\", train_y.shape)\n",
                "print()\n",
                "print(\"test input data shape:\", test_X.shape)\n",
                "print(\"test target data shape:\", test_y.shape)"
            ]
        },
        {
            "attachments": {},
            "cell_type": "markdown",
            "metadata": {},
            "source": [
                "Normalize training and test set input data (X) using statistics generated from the training set. To do this, use the [Standard Scaler](https://scikit-learn.org/stable/modules/generated/sklearn.preprocessing.StandardScaler.html) from sklearn. (**Conceptual Check**: Why is it important to use statistics generated from the training set?)"
            ]
        },
        {
            "cell_type": "code",
            "execution_count": 42,
            "metadata": {},
            "outputs": [],
            "source": [
                "scaler = StandardScaler()\n",
                "scaler.fit(train[input_cols], train[output_col])\n",
                "train_X_norm = scaler.transform(train_X)\n",
                "\n",
                "scaler.fit(test[input_cols], test[output_col])\n",
                "test_X_norm = scaler.transform(test_X)"
            ]
        },
        {
            "attachments": {},
            "cell_type": "markdown",
            "metadata": {},
            "source": [
                "View the type of the data post-normalization (as well as the data itself)."
            ]
        },
        {
            "cell_type": "code",
            "execution_count": 43,
            "metadata": {},
            "outputs": [
                {
                    "name": "stdout",
                    "output_type": "stream",
                    "text": "data type after normalizaton: \u003cclass 'numpy.ndarray'\u003e\n"
                },
                {
                    "data": {
                        "text/html": "\u003cdiv\u003e\n\u003cstyle scoped\u003e\n    .dataframe tbody tr th:only-of-type {\n        vertical-align: middle;\n    }\n\n    .dataframe tbody tr th {\n        vertical-align: top;\n    }\n\n    .dataframe thead th {\n        text-align: right;\n    }\n\u003c/style\u003e\n\u003ctable border=\"1\" class=\"dataframe\"\u003e\n  \u003cthead\u003e\n    \u003ctr style=\"text-align: right;\"\u003e\n      \u003cth\u003e\u003c/th\u003e\n      \u003cth\u003e0\u003c/th\u003e\n      \u003cth\u003e1\u003c/th\u003e\n      \u003cth\u003e2\u003c/th\u003e\n      \u003cth\u003e3\u003c/th\u003e\n    \u003c/tr\u003e\n  \u003c/thead\u003e\n  \u003ctbody\u003e\n    \u003ctr\u003e\n      \u003cth\u003e0\u003c/th\u003e\n      \u003ctd\u003e1.018106\u003c/td\u003e\n      \u003ctd\u003e-1.524898\u003c/td\u003e\n      \u003ctd\u003e0.072466\u003c/td\u003e\n      \u003ctd\u003e-0.339383\u003c/td\u003e\n    \u003c/tr\u003e\n    \u003ctr\u003e\n      \u003cth\u003e1\u003c/th\u003e\n      \u003ctd\u003e1.308547\u003c/td\u003e\n      \u003ctd\u003e1.278642\u003c/td\u003e\n      \u003ctd\u003e-0.411903\u003c/td\u003e\n      \u003ctd\u003e-0.502435\u003c/td\u003e\n    \u003c/tr\u003e\n    \u003ctr\u003e\n      \u003cth\u003e2\u003c/th\u003e\n      \u003ctd\u003e0.437223\u003c/td\u003e\n      \u003ctd\u003e-0.179199\u003c/td\u003e\n      \u003ctd\u003e0.072466\u003c/td\u003e\n      \u003ctd\u003e-0.339383\u003c/td\u003e\n    \u003c/tr\u003e\n    \u003ctr\u003e\n      \u003cth\u003e3\u003c/th\u003e\n      \u003ctd\u003e0.146782\u003c/td\u003e\n      \u003ctd\u003e0.942217\u003c/td\u003e\n      \u003ctd\u003e1.364116\u003c/td\u003e\n      \u003ctd\u003e1.399837\u003c/td\u003e\n    \u003c/tr\u003e\n    \u003ctr\u003e\n      \u003cth\u003e4\u003c/th\u003e\n      \u003ctd\u003e0.727664\u003c/td\u003e\n      \u003ctd\u003e-0.515624\u003c/td\u003e\n      \u003ctd\u003e1.364116\u003c/td\u003e\n      \u003ctd\u003e1.508538\u003c/td\u003e\n    \u003c/tr\u003e\n    \u003ctr\u003e\n      \u003cth\u003e...\u003c/th\u003e\n      \u003ctd\u003e...\u003c/td\u003e\n      \u003ctd\u003e...\u003c/td\u003e\n      \u003ctd\u003e...\u003c/td\u003e\n      \u003ctd\u003e...\u003c/td\u003e\n    \u003c/tr\u003e\n    \u003ctr\u003e\n      \u003cth\u003e3343\u003c/th\u003e\n      \u003ctd\u003e0.727664\u003c/td\u003e\n      \u003ctd\u003e0.269368\u003c/td\u003e\n      \u003ctd\u003e0.987385\u003c/td\u003e\n      \u003ctd\u003e0.965032\u003c/td\u003e\n    \u003c/tr\u003e\n    \u003ctr\u003e\n      \u003cth\u003e3344\u003c/th\u003e\n      \u003ctd\u003e-0.434100\u003c/td\u003e\n      \u003ctd\u003e-0.852048\u003c/td\u003e\n      \u003ctd\u003e-0.680997\u003c/td\u003e\n      \u003ctd\u003e-0.719837\u003c/td\u003e\n    \u003c/tr\u003e\n    \u003ctr\u003e\n      \u003cth\u003e3345\u003c/th\u003e\n      \u003ctd\u003e1.308547\u003c/td\u003e\n      \u003ctd\u003e1.278642\u003c/td\u003e\n      \u003ctd\u003e0.341559\u003c/td\u003e\n      \u003ctd\u003e0.312825\u003c/td\u003e\n    \u003c/tr\u003e\n    \u003ctr\u003e\n      \u003cth\u003e3346\u003c/th\u003e\n      \u003ctd\u003e-1.305424\u003c/td\u003e\n      \u003ctd\u003e1.390784\u003c/td\u003e\n      \u003ctd\u003e-0.196628\u003c/td\u003e\n      \u003ctd\u003e-0.556785\u003c/td\u003e\n    \u003c/tr\u003e\n    \u003ctr\u003e\n      \u003cth\u003e3347\u003c/th\u003e\n      \u003ctd\u003e0.727664\u003c/td\u003e\n      \u003ctd\u003e0.269368\u003c/td\u003e\n      \u003ctd\u003e1.471753\u003c/td\u003e\n      \u003ctd\u003e1.617240\u003c/td\u003e\n    \u003c/tr\u003e\n  \u003c/tbody\u003e\n\u003c/table\u003e\n\u003cp\u003e3348 rows × 4 columns\u003c/p\u003e\n\u003c/div\u003e",
                        "text/plain": "             0         1         2         3\n0     1.018106 -1.524898  0.072466 -0.339383\n1     1.308547  1.278642 -0.411903 -0.502435\n2     0.437223 -0.179199  0.072466 -0.339383\n3     0.146782  0.942217  1.364116  1.399837\n4     0.727664 -0.515624  1.364116  1.508538\n...        ...       ...       ...       ...\n3343  0.727664  0.269368  0.987385  0.965032\n3344 -0.434100 -0.852048 -0.680997 -0.719837\n3345  1.308547  1.278642  0.341559  0.312825\n3346 -1.305424  1.390784 -0.196628 -0.556785\n3347  0.727664  0.269368  1.471753  1.617240\n\n[3348 rows x 4 columns]"
                    },
                    "execution_count": 43,
                    "metadata": {},
                    "output_type": "execute_result"
                }
            ],
            "source": [
                "print(\"data type after normalizaton:\", type(train_X_norm))\n",
                "pd.DataFrame(train_X_norm)"
            ]
        },
        {
            "attachments": {},
            "cell_type": "markdown",
            "metadata": {},
            "source": [
                "# 3. Regularization with Ridge"
            ]
        },
        {
            "attachments": {},
            "cell_type": "markdown",
            "metadata": {},
            "source": [
                "Create a [Ridge](https://scikit-learn.org/stable/modules/generated/sklearn.linear_model.Ridge.html) linear model with a regularization coefficent of 1. \n",
                "\n",
                "Note: This coefficent is referred to as \"lambda (λ)\" in course material and \"alpha\" in the sklearn docs. They are the same thing!"
            ]
        },
        {
            "cell_type": "code",
            "execution_count": 44,
            "metadata": {},
            "outputs": [],
            "source": [
                "from sklearn.linear_model import Ridge\n",
                "ridge_model = Ridge(alpha=1.0)"
            ]
        },
        {
            "attachments": {},
            "cell_type": "markdown",
            "metadata": {},
            "source": [
                "Train the model using the training data and output the training error. To do so, define a function rmse(mode, X, y) that calculates the RMSE error for a given model, input, and target data."
            ]
        },
        {
            "cell_type": "code",
            "execution_count": 45,
            "metadata": {},
            "outputs": [],
            "source": [
                "def rmse(model, X, y):\n",
                "    predictions = model.predict(X)\n",
                "    return mean_squared_error(predictions, y, squared=False)"
            ]
        },
        {
            "cell_type": "code",
            "execution_count": 46,
            "metadata": {},
            "outputs": [
                {
                    "name": "stderr",
                    "output_type": "stream",
                    "text": "/usr/lib/python3.10/site-packages/sklearn/base.py:450: UserWarning: X does not have valid feature names, but Ridge was fitted with feature names\n  warnings.warn(\n"
                },
                {
                    "data": {
                        "text/plain": "68.44204780668359"
                    },
                    "execution_count": 46,
                    "metadata": {},
                    "output_type": "execute_result"
                }
            ],
            "source": [
                "ridge_model.fit(train_X, train_y)\n",
                "rmse(ridge_model, test_X_norm, test_y)"
            ]
        },
        {
            "attachments": {},
            "cell_type": "markdown",
            "metadata": {},
            "source": [
                "Perform 5-fold cross validation with your Ridge model. Output the array of errors (length 5) as well as the mean error. You should use [Cross Validation Score](https://scikit-learn.org/stable/modules/generated/sklearn.model_selection.cross_val_score.html?highlight=cross_val_scor) from sklearn to do this."
            ]
        },
        {
            "cell_type": "code",
            "execution_count": 47,
            "metadata": {},
            "outputs": [],
            "source": [
                "# TODO: fill out parameters for cross_val_score() and print errors\n",
                "ridge_CV_scores = cross_val_score(ridge_model, train_X_norm, train_y, cv=5, scoring=rmse)"
            ]
        },
        {
            "attachments": {},
            "cell_type": "markdown",
            "metadata": {},
            "source": [
                "Perform 5-fold cross validation on Ridge models with a range of alpha values. For each alpha, print the alpha value and the corresponding mean CV score."
            ]
        },
        {
            "cell_type": "code",
            "execution_count": 48,
            "metadata": {},
            "outputs": [
                {
                    "name": "stdout",
                    "output_type": "stream",
                    "text": "0.1\t1.3252714051732424\n1\t1.332910589536583\n10\t1.582447909331862\n100\t3.832236652048197\n1000\t6.36110043092546\n100000.0\t18.682624319200322\n"
                }
            ],
            "source": [
                "for reg_coef in [0.1, 1, 10, 100, 1000, 10e4]:\n",
                "    ridge_model = Ridge(alpha=reg_coef)\n",
                "    ridge_CV_scores = cross_val_score(ridge_model, train_X_norm, train_y, cv=5, scoring=rmse)\n",
                "    print(reg_coef, ridge_CV_scores.mean(), sep='\\t')"
            ]
        },
        {
            "attachments": {},
            "cell_type": "markdown",
            "metadata": {},
            "source": [
                "Take a look at how the weights of Ridge models change as you change the regularization coefficient!"
            ]
        },
        {
            "cell_type": "code",
            "execution_count": 49,
            "metadata": {},
            "outputs": [
                {
                    "name": "stdout",
                    "output_type": "stream",
                    "text": "66.55585424133811 [-2.72691328e-02 -1.43659140e-03  3.56992139e+01 -1.69182130e+01]\n66.55585424133811 [ 0.02952249  0.15925421 20.96505634 -2.48285882]\n66.55585424133811 [0.11537528 0.04575605 0.60286437 0.56094186]\n66.55585424133811 [1.27199023e-04 4.99301174e-05 6.42239492e-04 6.00268369e-04]\n66.55585424133811 [1.27211795e-09 4.99346174e-10 6.42281604e-09 6.00310430e-09]\n"
                }
            ],
            "source": [
                "for reg_coef in [1, 100, 10e4, 10e7, 10e12]:\n",
                "    ridge_model = Ridge(alpha=reg_coef)\n",
                "    ridge_model.fit(train_X_norm, train_y)\n",
                "    print(ridge_model.intercept_, ridge_model.coef_)"
            ]
        },
        {
            "attachments": {},
            "cell_type": "markdown",
            "metadata": {},
            "source": [
                "**BONUS**: How would the weights be different if you didn't regularize them? (i.e., use `LinearRegression` instead of `Ridge`.)"
            ]
        },
        {
            "cell_type": "code",
            "execution_count": 50,
            "metadata": {},
            "outputs": [],
            "source": [
                ""
            ]
        },
        {
            "attachments": {},
            "cell_type": "markdown",
            "metadata": {},
            "source": [
                "# 4. Regularization with LASSO"
            ]
        },
        {
            "attachments": {},
            "cell_type": "markdown",
            "metadata": {},
            "source": [
                "Create a [LASSO](https://scikit-learn.org/stable/modules/generated/sklearn.linear_model.Lasso.html) linear model with a regularization coefficent of 1."
            ]
        },
        {
            "cell_type": "code",
            "execution_count": 51,
            "metadata": {},
            "outputs": [],
            "source": [
                "from sklearn.linear_model import Lasso\n",
                "lasso_model = Lasso(alpha=1.0)"
            ]
        },
        {
            "attachments": {},
            "cell_type": "markdown",
            "metadata": {},
            "source": [
                "Train the model using the training data and output the training error."
            ]
        },
        {
            "cell_type": "code",
            "execution_count": 52,
            "metadata": {},
            "outputs": [
                {
                    "data": {
                        "text/plain": "4.090033346755294"
                    },
                    "execution_count": 52,
                    "metadata": {},
                    "output_type": "execute_result"
                }
            ],
            "source": [
                "lasso_model.fit(train_X_norm, train_y)\n",
                "rmse(lasso_model, test_X_norm, test_y)"
            ]
        },
        {
            "attachments": {},
            "cell_type": "markdown",
            "metadata": {},
            "source": [
                "Perform 5-fold cross validation with your LASSO model. Output the array of errors (length 5) as well as the mean error."
            ]
        },
        {
            "cell_type": "code",
            "execution_count": 53,
            "metadata": {},
            "outputs": [],
            "source": [
                "# TODO: fill out parameters for cross_val_score() and print errors\n",
                "lasso_CV_scores = cross_val_score(lasso_model, train_X_norm, train_y, cv=5, scoring=rmse)"
            ]
        },
        {
            "attachments": {},
            "cell_type": "markdown",
            "metadata": {},
            "source": [
                "Perform 5-fold cross validation on LASSO models with a range of alpha values. For each alpha, print the alpha value and the corresponding mean CV score."
            ]
        },
        {
            "cell_type": "code",
            "execution_count": 54,
            "metadata": {},
            "outputs": [
                {
                    "name": "stdout",
                    "output_type": "stream",
                    "text": "0.1\t1.663222053488721\n1\t4.100843144438938\n10\t10.769562567291945\n100\t19.59484029659118\n1000\t19.59484029659118\n100000.0\t19.59484029659118\n"
                }
            ],
            "source": [
                "for reg_coef in [0.1, 1, 10, 100, 1000, 10e4]:\n",
                "    lasso_model = Lasso(alpha=reg_coef)\n",
                "    lasso_CV_scores = cross_val_score(lasso_model, train_X_norm, train_y, cv=5, scoring=rmse)\n",
                "    print(reg_coef, lasso_CV_scores.mean(), sep='\\t')"
            ]
        },
        {
            "attachments": {},
            "cell_type": "markdown",
            "metadata": {},
            "source": [
                "Take a look at how the weights of LASSO models change as you change the regularization coefficient!\n",
                "\n",
                "Note: In python, -0 is the same as 0!"
            ]
        },
        {
            "cell_type": "code",
            "execution_count": 55,
            "metadata": {},
            "outputs": [
                {
                    "name": "stdout",
                    "output_type": "stream",
                    "text": "66.55585424133811 [-2.78578960e-02 -5.01221518e-03  3.60355838e+01 -1.72513867e+01]\n66.55585424133811 [ -0.           0.          31.71964134 -12.94296107]\n66.55585424133811 [ 0.          0.         18.18403835  0.        ]\n66.55585424133811 [0.         0.         9.18403835 0.        ]\n66.55585424133811 [0. 0. 0. 0.]\n"
                },
                {
                    "name": "stderr",
                    "output_type": "stream",
                    "text": "/tmp/ipykernel_32/3080329957.py:3: UserWarning: With alpha=0, this algorithm does not converge well. You are advised to use the LinearRegression estimator\n  lasso_model.fit(train_X_norm, train_y)\n/usr/lib/python3.10/site-packages/sklearn/linear_model/_coordinate_descent.py:647: UserWarning: Coordinate descent with no regularization may lead to unexpected results and is discouraged.\n  model = cd_fast.enet_coordinate_descent(\n/usr/lib/python3.10/site-packages/sklearn/linear_model/_coordinate_descent.py:647: ConvergenceWarning: Objective did not converge. You might want to increase the number of iterations, check the scale of the features or consider increasing regularisation. Duality gap: 3.339e+03, tolerance: 1.285e+02 Linear regression models with null weight for the l1 regularization term are more efficiently fitted using one of the solvers implemented in sklearn.linear_model.Ridge/RidgeCV instead.\n  model = cd_fast.enet_coordinate_descent(\n"
                }
            ],
            "source": [
                "for reg_coef in [0, 0.1, 1, 10, 100]:\n",
                "    lasso_model = Lasso(alpha=reg_coef)\n",
                "    lasso_model.fit(train_X_norm, train_y)\n",
                "    print(lasso_model.intercept_, lasso_model.coef_)"
            ]
        },
        {
            "attachments": {},
            "cell_type": "markdown",
            "metadata": {},
            "source": [
                "# 5. Computing final test scores"
            ]
        },
        {
            "attachments": {},
            "cell_type": "markdown",
            "metadata": {},
            "source": [
                "Using the regularization coefficient that leads to the best validation error, compute test scores for a Ridge and LASSO model."
            ]
        },
        {
            "cell_type": "code",
            "execution_count": 59,
            "metadata": {},
            "outputs": [
                {
                    "name": "stdout",
                    "output_type": "stream",
                    "text": "Ridge 18.71119819148913\nLASSO 19.84408295677865\nLinearRegression 1.5852190216197686\n"
                }
            ],
            "source": [
                "# TODO: choose best alphas from above and calculate test errors\n",
                "print(\"Ridge\", rmse(Ridge(alpha=100000.0).fit(train_X_norm, train_y), test_X_norm, test_y))\n",
                "print(\"LASSO\", rmse(Lasso(alpha=100.0).fit(train_X_norm, train_y), test_X_norm, test_y))\n",
                "print(\"LinearRegression\", rmse(LinearRegression().fit(train_X_norm, train_y), test_X_norm, test_y))"
            ]
        }
    ]
}
