{
    "metadata": {
        "kernelspec": {
            "name": "python3",
            "display_name": "Python 3 (ipykernel)",
            "language": "python"
        }
    },
    "nbformat": 4,
    "nbformat_minor": 0,
    "cells": [
        {
            "attachments": {},
            "cell_type": "markdown",
            "metadata": {},
            "source": [
                "# Assignment 2 - Ridge and LASSO Regression\n",
                "\n",
                "In this assignment we'll look at the affect of using regularization on linear regression models that we train. You will write code to train models that use different regularizers and different penalties and to analyze how this affects the model.\n",
                "\n",
                "\n",
                "Fill in the cells provided marked `TODO` with code to answer the questions. Answers should do the computation stated rather than writing in hard-coded values. So for example, if a problem asks you to compute the average age of people in a dataset, you should be writing Python code in this notebook to do the computation instead of plugging it into some calculator and saving the hard-coded answer in the variable. In other words, we should be able to run your code on a smaller/larger dataset and get correct answers for those datasets with your code.\n",
                "\n",
                "Note, you are not allowed to share any portions of this notebook outside of this class.\n",
                "\n",
                "\u003e Copyright ©2021 Emily Fox and Hunter Schafer.  All rights reserved.  Permission is hereby granted to students registered for University of Washington CSE/STAT 416 for use solely during Spring Quarter 2021 for purposes of the course.  No other use, copying, distribution, or modification is permitted without prior written consent. Copyrights for third-party components of this work must be honored.  Instructors interested in reusing these course materials should contact the author.\n",
                "\n",
                "---"
            ]
        },
        {
            "cell_type": "code",
            "execution_count": 91,
            "metadata": {},
            "outputs": [],
            "source": [
                "# use this to hide ConvergenceWarning\n",
                "# this is dangerous though; only hide warnings at the end to make a nicer-looking notebook\n",
                "\n",
                "# Do not include in student starter code\n",
                "# import warnings \n",
                "# warnings.filterwarnings('ignore')"
            ]
        },
        {
            "cell_type": "code",
            "execution_count": 92,
            "metadata": {},
            "outputs": [],
            "source": [
                "# Conventionally people rename these common imports for brevity\n",
                "import pandas as pd\n",
                "import numpy as np\n",
                "import matplotlib.pyplot as plt\n",
                "\n",
                "# Magic command to make the plots appear in-line (it's actually called a \"magic command\")\n",
                "%matplotlib inline\n",
                "\n",
                "# Set seed for the whole program\n",
                "np.random.seed(416)"
            ]
        },
        {
            "attachments": {},
            "cell_type": "markdown",
            "metadata": {},
            "source": [
                "For this assignment, we will only be using a very small subset of the data to do our analysis. This is not something you would usually do in practice, but is something we do for this assignment to simplify this complexity of this dataset. The data is pretty noisy and to get meaningful results to demonstrate the theoretical behavior, you would need to use a much more complicated set of features that would be a bit more tedious to work with."
            ]
        },
        {
            "cell_type": "code",
            "execution_count": 93,
            "metadata": {},
            "outputs": [
                {
                    "name": "stdout",
                    "output_type": "stream",
                    "text": "Number of points: 216\n"
                },
                {
                    "data": {
                        "text/html": "\u003cdiv\u003e\n\u003cstyle scoped\u003e\n    .dataframe tbody tr th:only-of-type {\n        vertical-align: middle;\n    }\n\n    .dataframe tbody tr th {\n        vertical-align: top;\n    }\n\n    .dataframe thead th {\n        text-align: right;\n    }\n\u003c/style\u003e\n\u003ctable border=\"1\" class=\"dataframe\"\u003e\n  \u003cthead\u003e\n    \u003ctr style=\"text-align: right;\"\u003e\n      \u003cth\u003e\u003c/th\u003e\n      \u003cth\u003eid\u003c/th\u003e\n      \u003cth\u003edate\u003c/th\u003e\n      \u003cth\u003eprice\u003c/th\u003e\n      \u003cth\u003ebedrooms\u003c/th\u003e\n      \u003cth\u003ebathrooms\u003c/th\u003e\n      \u003cth\u003esqft_living\u003c/th\u003e\n      \u003cth\u003esqft_lot\u003c/th\u003e\n      \u003cth\u003efloors\u003c/th\u003e\n      \u003cth\u003ewaterfront\u003c/th\u003e\n      \u003cth\u003eview\u003c/th\u003e\n      \u003cth\u003e...\u003c/th\u003e\n      \u003cth\u003egrade\u003c/th\u003e\n      \u003cth\u003esqft_above\u003c/th\u003e\n      \u003cth\u003esqft_basement\u003c/th\u003e\n      \u003cth\u003eyr_built\u003c/th\u003e\n      \u003cth\u003eyr_renovated\u003c/th\u003e\n      \u003cth\u003ezipcode\u003c/th\u003e\n      \u003cth\u003elat\u003c/th\u003e\n      \u003cth\u003elong\u003c/th\u003e\n      \u003cth\u003esqft_living15\u003c/th\u003e\n      \u003cth\u003esqft_lot15\u003c/th\u003e\n    \u003c/tr\u003e\n  \u003c/thead\u003e\n  \u003ctbody\u003e\n    \u003ctr\u003e\n      \u003cth\u003e3798\u003c/th\u003e\n      \u003ctd\u003e2426059076\u003c/td\u003e\n      \u003ctd\u003e20150203T000000\u003c/td\u003e\n      \u003ctd\u003e680000\u003c/td\u003e\n      \u003ctd\u003e4\u003c/td\u003e\n      \u003ctd\u003e2.50\u003c/td\u003e\n      \u003ctd\u003e2700\u003c/td\u003e\n      \u003ctd\u003e37431\u003c/td\u003e\n      \u003ctd\u003e1.0\u003c/td\u003e\n      \u003ctd\u003e0\u003c/td\u003e\n      \u003ctd\u003e0\u003c/td\u003e\n      \u003ctd\u003e...\u003c/td\u003e\n      \u003ctd\u003e8\u003c/td\u003e\n      \u003ctd\u003e1600\u003c/td\u003e\n      \u003ctd\u003e1100\u003c/td\u003e\n      \u003ctd\u003e1978\u003c/td\u003e\n      \u003ctd\u003e0\u003c/td\u003e\n      \u003ctd\u003e98072\u003c/td\u003e\n      \u003ctd\u003e47.7258\u003c/td\u003e\n      \u003ctd\u003e-122.117\u003c/td\u003e\n      \u003ctd\u003e2290\u003c/td\u003e\n      \u003ctd\u003e37431\u003c/td\u003e\n    \u003c/tr\u003e\n    \u003ctr\u003e\n      \u003cth\u003e20742\u003c/th\u003e\n      \u003ctd\u003e2902200241\u003c/td\u003e\n      \u003ctd\u003e20140623T000000\u003c/td\u003e\n      \u003ctd\u003e562500\u003c/td\u003e\n      \u003ctd\u003e3\u003c/td\u003e\n      \u003ctd\u003e2.25\u003c/td\u003e\n      \u003ctd\u003e1300\u003c/td\u003e\n      \u003ctd\u003e907\u003c/td\u003e\n      \u003ctd\u003e2.0\u003c/td\u003e\n      \u003ctd\u003e0\u003c/td\u003e\n      \u003ctd\u003e0\u003c/td\u003e\n      \u003ctd\u003e...\u003c/td\u003e\n      \u003ctd\u003e8\u003c/td\u003e\n      \u003ctd\u003e1000\u003c/td\u003e\n      \u003ctd\u003e300\u003c/td\u003e\n      \u003ctd\u003e2006\u003c/td\u003e\n      \u003ctd\u003e0\u003c/td\u003e\n      \u003ctd\u003e98102\u003c/td\u003e\n      \u003ctd\u003e47.6371\u003c/td\u003e\n      \u003ctd\u003e-122.327\u003c/td\u003e\n      \u003ctd\u003e1300\u003c/td\u003e\n      \u003ctd\u003e1169\u003c/td\u003e\n    \u003c/tr\u003e\n    \u003ctr\u003e\n      \u003cth\u003e2325\u003c/th\u003e\n      \u003ctd\u003e3634100030\u003c/td\u003e\n      \u003ctd\u003e20150109T000000\u003c/td\u003e\n      \u003ctd\u003e270000\u003c/td\u003e\n      \u003ctd\u003e4\u003c/td\u003e\n      \u003ctd\u003e2.00\u003c/td\u003e\n      \u003ctd\u003e1830\u003c/td\u003e\n      \u003ctd\u003e5220\u003c/td\u003e\n      \u003ctd\u003e1.5\u003c/td\u003e\n      \u003ctd\u003e0\u003c/td\u003e\n      \u003ctd\u003e0\u003c/td\u003e\n      \u003ctd\u003e...\u003c/td\u003e\n      \u003ctd\u003e7\u003c/td\u003e\n      \u003ctd\u003e1830\u003c/td\u003e\n      \u003ctd\u003e0\u003c/td\u003e\n      \u003ctd\u003e1951\u003c/td\u003e\n      \u003ctd\u003e0\u003c/td\u003e\n      \u003ctd\u003e98118\u003c/td\u003e\n      \u003ctd\u003e47.5331\u003c/td\u003e\n      \u003ctd\u003e-122.278\u003c/td\u003e\n      \u003ctd\u003e1760\u003c/td\u003e\n      \u003ctd\u003e5757\u003c/td\u003e\n    \u003c/tr\u003e\n    \u003ctr\u003e\n      \u003cth\u003e3062\u003c/th\u003e\n      \u003ctd\u003e3163600015\u003c/td\u003e\n      \u003ctd\u003e20150128T000000\u003c/td\u003e\n      \u003ctd\u003e156000\u003c/td\u003e\n      \u003ctd\u003e2\u003c/td\u003e\n      \u003ctd\u003e1.00\u003c/td\u003e\n      \u003ctd\u003e600\u003c/td\u003e\n      \u003ctd\u003e4000\u003c/td\u003e\n      \u003ctd\u003e1.0\u003c/td\u003e\n      \u003ctd\u003e0\u003c/td\u003e\n      \u003ctd\u003e0\u003c/td\u003e\n      \u003ctd\u003e...\u003c/td\u003e\n      \u003ctd\u003e5\u003c/td\u003e\n      \u003ctd\u003e600\u003c/td\u003e\n      \u003ctd\u003e0\u003c/td\u003e\n      \u003ctd\u003e1933\u003c/td\u003e\n      \u003ctd\u003e0\u003c/td\u003e\n      \u003ctd\u003e98146\u003c/td\u003e\n      \u003ctd\u003e47.5065\u003c/td\u003e\n      \u003ctd\u003e-122.339\u003c/td\u003e\n      \u003ctd\u003e1290\u003c/td\u003e\n      \u003ctd\u003e6973\u003c/td\u003e\n    \u003c/tr\u003e\n    \u003ctr\u003e\n      \u003cth\u003e4341\u003c/th\u003e\n      \u003ctd\u003e9407000600\u003c/td\u003e\n      \u003ctd\u003e20140916T000000\u003c/td\u003e\n      \u003ctd\u003e242000\u003c/td\u003e\n      \u003ctd\u003e3\u003c/td\u003e\n      \u003ctd\u003e1.00\u003c/td\u003e\n      \u003ctd\u003e970\u003c/td\u003e\n      \u003ctd\u003e9600\u003c/td\u003e\n      \u003ctd\u003e1.0\u003c/td\u003e\n      \u003ctd\u003e0\u003c/td\u003e\n      \u003ctd\u003e0\u003c/td\u003e\n      \u003ctd\u003e...\u003c/td\u003e\n      \u003ctd\u003e7\u003c/td\u003e\n      \u003ctd\u003e970\u003c/td\u003e\n      \u003ctd\u003e0\u003c/td\u003e\n      \u003ctd\u003e1972\u003c/td\u003e\n      \u003ctd\u003e0\u003c/td\u003e\n      \u003ctd\u003e98045\u003c/td\u003e\n      \u003ctd\u003e47.4451\u003c/td\u003e\n      \u003ctd\u003e-121.768\u003c/td\u003e\n      \u003ctd\u003e1110\u003c/td\u003e\n      \u003ctd\u003e9600\u003c/td\u003e\n    \u003c/tr\u003e\n  \u003c/tbody\u003e\n\u003c/table\u003e\n\u003cp\u003e5 rows × 21 columns\u003c/p\u003e\n\u003c/div\u003e",
                        "text/plain": "               id             date   price  bedrooms  bathrooms  sqft_living  \\\n3798   2426059076  20150203T000000  680000         4       2.50         2700   \n20742  2902200241  20140623T000000  562500         3       2.25         1300   \n2325   3634100030  20150109T000000  270000         4       2.00         1830   \n3062   3163600015  20150128T000000  156000         2       1.00          600   \n4341   9407000600  20140916T000000  242000         3       1.00          970   \n\n       sqft_lot  floors  waterfront  view  ...  grade  sqft_above  \\\n3798      37431     1.0           0     0  ...      8        1600   \n20742       907     2.0           0     0  ...      8        1000   \n2325       5220     1.5           0     0  ...      7        1830   \n3062       4000     1.0           0     0  ...      5         600   \n4341       9600     1.0           0     0  ...      7         970   \n\n       sqft_basement  yr_built  yr_renovated  zipcode      lat     long  \\\n3798            1100      1978             0    98072  47.7258 -122.117   \n20742            300      2006             0    98102  47.6371 -122.327   \n2325               0      1951             0    98118  47.5331 -122.278   \n3062               0      1933             0    98146  47.5065 -122.339   \n4341               0      1972             0    98045  47.4451 -121.768   \n\n       sqft_living15  sqft_lot15  \n3798            2290       37431  \n20742           1300        1169  \n2325            1760        5757  \n3062            1290        6973  \n4341            1110        9600  \n\n[5 rows x 21 columns]"
                    },
                    "execution_count": 93,
                    "metadata": {},
                    "output_type": "execute_result"
                }
            ],
            "source": [
                "sales = pd.read_csv('home_data.csv') \n",
                "\n",
                "# Selects 1% of the data\n",
                "sales = sales.sample(frac=0.01) \n",
                "\n",
                "print(f'Number of points: {len(sales)}')\n",
                "sales.head()"
            ]
        },
        {
            "attachments": {},
            "cell_type": "markdown",
            "metadata": {},
            "source": [
                "## Q1 - Feature Engineering\n",
                "First, we do a bit of feature engineering by creating features that represent the squares of each feature and the square root of each feature. One benefit of using regularization is you can include more features than necessary and you don't have to be as worried about overfitting since the model is regularized.\n",
                "\n",
                "In the following cell, complete the code inside the loop to compute the square of each feature the the square root of each feature.\n",
                "\n",
                "*Note: For this problem, we will make the correctness autograder test public to help avoid downstream issues.*"
            ]
        },
        {
            "cell_type": "code",
            "execution_count": 94,
            "metadata": {},
            "outputs": [
                {
                    "data": {
                        "text/html": "\u003cdiv\u003e\n\u003cstyle scoped\u003e\n    .dataframe tbody tr th:only-of-type {\n        vertical-align: middle;\n    }\n\n    .dataframe tbody tr th {\n        vertical-align: top;\n    }\n\n    .dataframe thead th {\n        text-align: right;\n    }\n\u003c/style\u003e\n\u003ctable border=\"1\" class=\"dataframe\"\u003e\n  \u003cthead\u003e\n    \u003ctr style=\"text-align: right;\"\u003e\n      \u003cth\u003e\u003c/th\u003e\n      \u003cth\u003ebedrooms\u003c/th\u003e\n      \u003cth\u003ebedrooms_square\u003c/th\u003e\n      \u003cth\u003ebedrooms_sqrt\u003c/th\u003e\n      \u003cth\u003ebathrooms\u003c/th\u003e\n      \u003cth\u003ebathrooms_square\u003c/th\u003e\n      \u003cth\u003ebathrooms_sqrt\u003c/th\u003e\n      \u003cth\u003esqft_living\u003c/th\u003e\n      \u003cth\u003esqft_living_square\u003c/th\u003e\n      \u003cth\u003esqft_living_sqrt\u003c/th\u003e\n      \u003cth\u003esqft_lot\u003c/th\u003e\n      \u003cth\u003e...\u003c/th\u003e\n      \u003cth\u003esqft_above_sqrt\u003c/th\u003e\n      \u003cth\u003esqft_basement\u003c/th\u003e\n      \u003cth\u003esqft_basement_square\u003c/th\u003e\n      \u003cth\u003esqft_basement_sqrt\u003c/th\u003e\n      \u003cth\u003eyr_built\u003c/th\u003e\n      \u003cth\u003eyr_built_square\u003c/th\u003e\n      \u003cth\u003eyr_built_sqrt\u003c/th\u003e\n      \u003cth\u003eyr_renovated\u003c/th\u003e\n      \u003cth\u003eyr_renovated_square\u003c/th\u003e\n      \u003cth\u003eyr_renovated_sqrt\u003c/th\u003e\n    \u003c/tr\u003e\n  \u003c/thead\u003e\n  \u003ctbody\u003e\n    \u003ctr\u003e\n      \u003cth\u003e3798\u003c/th\u003e\n      \u003ctd\u003e4\u003c/td\u003e\n      \u003ctd\u003e16\u003c/td\u003e\n      \u003ctd\u003e2.000000\u003c/td\u003e\n      \u003ctd\u003e2.50\u003c/td\u003e\n      \u003ctd\u003e6.2500\u003c/td\u003e\n      \u003ctd\u003e1.581139\u003c/td\u003e\n      \u003ctd\u003e2700\u003c/td\u003e\n      \u003ctd\u003e7290000\u003c/td\u003e\n      \u003ctd\u003e51.961524\u003c/td\u003e\n      \u003ctd\u003e37431\u003c/td\u003e\n      \u003ctd\u003e...\u003c/td\u003e\n      \u003ctd\u003e40.000000\u003c/td\u003e\n      \u003ctd\u003e1100\u003c/td\u003e\n      \u003ctd\u003e1210000\u003c/td\u003e\n      \u003ctd\u003e33.166248\u003c/td\u003e\n      \u003ctd\u003e1978\u003c/td\u003e\n      \u003ctd\u003e3912484\u003c/td\u003e\n      \u003ctd\u003e44.474712\u003c/td\u003e\n      \u003ctd\u003e0\u003c/td\u003e\n      \u003ctd\u003e0\u003c/td\u003e\n      \u003ctd\u003e0.0\u003c/td\u003e\n    \u003c/tr\u003e\n    \u003ctr\u003e\n      \u003cth\u003e20742\u003c/th\u003e\n      \u003ctd\u003e3\u003c/td\u003e\n      \u003ctd\u003e9\u003c/td\u003e\n      \u003ctd\u003e1.732051\u003c/td\u003e\n      \u003ctd\u003e2.25\u003c/td\u003e\n      \u003ctd\u003e5.0625\u003c/td\u003e\n      \u003ctd\u003e1.500000\u003c/td\u003e\n      \u003ctd\u003e1300\u003c/td\u003e\n      \u003ctd\u003e1690000\u003c/td\u003e\n      \u003ctd\u003e36.055513\u003c/td\u003e\n      \u003ctd\u003e907\u003c/td\u003e\n      \u003ctd\u003e...\u003c/td\u003e\n      \u003ctd\u003e31.622777\u003c/td\u003e\n      \u003ctd\u003e300\u003c/td\u003e\n      \u003ctd\u003e90000\u003c/td\u003e\n      \u003ctd\u003e17.320508\u003c/td\u003e\n      \u003ctd\u003e2006\u003c/td\u003e\n      \u003ctd\u003e4024036\u003c/td\u003e\n      \u003ctd\u003e44.788391\u003c/td\u003e\n      \u003ctd\u003e0\u003c/td\u003e\n      \u003ctd\u003e0\u003c/td\u003e\n      \u003ctd\u003e0.0\u003c/td\u003e\n    \u003c/tr\u003e\n    \u003ctr\u003e\n      \u003cth\u003e2325\u003c/th\u003e\n      \u003ctd\u003e4\u003c/td\u003e\n      \u003ctd\u003e16\u003c/td\u003e\n      \u003ctd\u003e2.000000\u003c/td\u003e\n      \u003ctd\u003e2.00\u003c/td\u003e\n      \u003ctd\u003e4.0000\u003c/td\u003e\n      \u003ctd\u003e1.414214\u003c/td\u003e\n      \u003ctd\u003e1830\u003c/td\u003e\n      \u003ctd\u003e3348900\u003c/td\u003e\n      \u003ctd\u003e42.778499\u003c/td\u003e\n      \u003ctd\u003e5220\u003c/td\u003e\n      \u003ctd\u003e...\u003c/td\u003e\n      \u003ctd\u003e42.778499\u003c/td\u003e\n      \u003ctd\u003e0\u003c/td\u003e\n      \u003ctd\u003e0\u003c/td\u003e\n      \u003ctd\u003e0.000000\u003c/td\u003e\n      \u003ctd\u003e1951\u003c/td\u003e\n      \u003ctd\u003e3806401\u003c/td\u003e\n      \u003ctd\u003e44.170126\u003c/td\u003e\n      \u003ctd\u003e0\u003c/td\u003e\n      \u003ctd\u003e0\u003c/td\u003e\n      \u003ctd\u003e0.0\u003c/td\u003e\n    \u003c/tr\u003e\n    \u003ctr\u003e\n      \u003cth\u003e3062\u003c/th\u003e\n      \u003ctd\u003e2\u003c/td\u003e\n      \u003ctd\u003e4\u003c/td\u003e\n      \u003ctd\u003e1.414214\u003c/td\u003e\n      \u003ctd\u003e1.00\u003c/td\u003e\n      \u003ctd\u003e1.0000\u003c/td\u003e\n      \u003ctd\u003e1.000000\u003c/td\u003e\n      \u003ctd\u003e600\u003c/td\u003e\n      \u003ctd\u003e360000\u003c/td\u003e\n      \u003ctd\u003e24.494897\u003c/td\u003e\n      \u003ctd\u003e4000\u003c/td\u003e\n      \u003ctd\u003e...\u003c/td\u003e\n      \u003ctd\u003e24.494897\u003c/td\u003e\n      \u003ctd\u003e0\u003c/td\u003e\n      \u003ctd\u003e0\u003c/td\u003e\n      \u003ctd\u003e0.000000\u003c/td\u003e\n      \u003ctd\u003e1933\u003c/td\u003e\n      \u003ctd\u003e3736489\u003c/td\u003e\n      \u003ctd\u003e43.965896\u003c/td\u003e\n      \u003ctd\u003e0\u003c/td\u003e\n      \u003ctd\u003e0\u003c/td\u003e\n      \u003ctd\u003e0.0\u003c/td\u003e\n    \u003c/tr\u003e\n    \u003ctr\u003e\n      \u003cth\u003e4341\u003c/th\u003e\n      \u003ctd\u003e3\u003c/td\u003e\n      \u003ctd\u003e9\u003c/td\u003e\n      \u003ctd\u003e1.732051\u003c/td\u003e\n      \u003ctd\u003e1.00\u003c/td\u003e\n      \u003ctd\u003e1.0000\u003c/td\u003e\n      \u003ctd\u003e1.000000\u003c/td\u003e\n      \u003ctd\u003e970\u003c/td\u003e\n      \u003ctd\u003e940900\u003c/td\u003e\n      \u003ctd\u003e31.144823\u003c/td\u003e\n      \u003ctd\u003e9600\u003c/td\u003e\n      \u003ctd\u003e...\u003c/td\u003e\n      \u003ctd\u003e31.144823\u003c/td\u003e\n      \u003ctd\u003e0\u003c/td\u003e\n      \u003ctd\u003e0\u003c/td\u003e\n      \u003ctd\u003e0.000000\u003c/td\u003e\n      \u003ctd\u003e1972\u003c/td\u003e\n      \u003ctd\u003e3888784\u003c/td\u003e\n      \u003ctd\u003e44.407207\u003c/td\u003e\n      \u003ctd\u003e0\u003c/td\u003e\n      \u003ctd\u003e0\u003c/td\u003e\n      \u003ctd\u003e0.0\u003c/td\u003e\n    \u003c/tr\u003e\n  \u003c/tbody\u003e\n\u003c/table\u003e\n\u003cp\u003e5 rows × 39 columns\u003c/p\u003e\n\u003c/div\u003e",
                        "text/plain": "       bedrooms  bedrooms_square  bedrooms_sqrt  bathrooms  bathrooms_square  \\\n3798          4               16       2.000000       2.50            6.2500   \n20742         3                9       1.732051       2.25            5.0625   \n2325          4               16       2.000000       2.00            4.0000   \n3062          2                4       1.414214       1.00            1.0000   \n4341          3                9       1.732051       1.00            1.0000   \n\n       bathrooms_sqrt  sqft_living  sqft_living_square  sqft_living_sqrt  \\\n3798         1.581139         2700             7290000         51.961524   \n20742        1.500000         1300             1690000         36.055513   \n2325         1.414214         1830             3348900         42.778499   \n3062         1.000000          600              360000         24.494897   \n4341         1.000000          970              940900         31.144823   \n\n       sqft_lot  ...  sqft_above_sqrt  sqft_basement  sqft_basement_square  \\\n3798      37431  ...        40.000000           1100               1210000   \n20742       907  ...        31.622777            300                 90000   \n2325       5220  ...        42.778499              0                     0   \n3062       4000  ...        24.494897              0                     0   \n4341       9600  ...        31.144823              0                     0   \n\n       sqft_basement_sqrt  yr_built  yr_built_square  yr_built_sqrt  \\\n3798            33.166248      1978          3912484      44.474712   \n20742           17.320508      2006          4024036      44.788391   \n2325             0.000000      1951          3806401      44.170126   \n3062             0.000000      1933          3736489      43.965896   \n4341             0.000000      1972          3888784      44.407207   \n\n       yr_renovated  yr_renovated_square  yr_renovated_sqrt  \n3798              0                    0                0.0  \n20742             0                    0                0.0  \n2325              0                    0                0.0  \n3062              0                    0                0.0  \n4341              0                    0                0.0  \n\n[5 rows x 39 columns]"
                    },
                    "execution_count": 94,
                    "metadata": {},
                    "output_type": "execute_result"
                }
            ],
            "source": [
                "### edTest(test_feature_extraction) ###\n",
                "\n",
                "from math import sqrt\n",
                "\n",
                "# All of the features of interest\n",
                "selected_inputs = [\n",
                "    'bedrooms', \n",
                "    'bathrooms',\n",
                "    'sqft_living', \n",
                "    'sqft_lot', \n",
                "    'floors', \n",
                "    'waterfront', \n",
                "    'view', \n",
                "    'condition', \n",
                "    'grade',\n",
                "    'sqft_above',\n",
                "    'sqft_basement',\n",
                "    'yr_built', \n",
                "    'yr_renovated'\n",
                "]\n",
                "\n",
                "# Compute the square and sqrt of each feature\n",
                "all_features = []\n",
                "for data_input in selected_inputs:\n",
                "    square_feat = data_input + '_square'\n",
                "    sqrt_feat  = data_input + '_sqrt'\n",
                "    \n",
                "    # TODO compute the square and square root as two new features\n",
                "    sales[square_feat] = sales[data_input] ** 2\n",
                "    sales[sqrt_feat] = sales[data_input].apply(lambda x: sqrt(x))\n",
                "    all_features.extend([data_input, square_feat, sqrt_feat])\n",
                "    \n",
                "# Split the data into features and price\n",
                "price = sales['price']\n",
                "sales = sales[all_features]\n",
                "\n",
                "sales.head()"
            ]
        },
        {
            "attachments": {},
            "cell_type": "markdown",
            "metadata": {},
            "source": [
                "## Split Data\n",
                "Next, we need to split our data into our train, validation, and test data. To do this, we will use [train_test_split](https://scikit-learn.org/stable/modules/generated/sklearn.model_selection.train_test_split.html) function to split up the dataset. For this assignment we will use 70% of the data to train, 10% for validation, and 20% to test. \n",
                "\n",
                "For this programming assignment, we DO NOT consider the test set an actual test set, but rather another validation one. However, to make the terminologies more simple, we just use this term."
            ]
        },
        {
            "cell_type": "code",
            "execution_count": 95,
            "metadata": {},
            "outputs": [],
            "source": [
                "from sklearn.model_selection import train_test_split\n",
                "\n",
                "train_and_validation_sales, test_sales, train_and_validation_price, test_price = \\\n",
                "    train_test_split(sales, price, test_size=0.2)\n",
                "train_sales, validation_sales, train_price, validation_price = \\\n",
                "    train_test_split(train_and_validation_sales, train_and_validation_price, test_size=.125) # .10 (validation) of .80 (train + validation)"
            ]
        },
        {
            "attachments": {},
            "cell_type": "markdown",
            "metadata": {},
            "source": [
                "## Q2 - Standardization"
            ]
        },
        {
            "attachments": {},
            "cell_type": "markdown",
            "metadata": {},
            "source": [
                "We first need to do a little bit more pre-processing to prepare the data for model training. Models like Ridge and LASSO assume the input features are standardized (mean 0, std. dev. 1) and the target values are centered (mean 0). If we do not do this, we might get some unpredictable results since we violate the assumption of the models!\n",
                "\n",
                "So in the next cell, you should standardize the data in train, validation, and test using the following instructions:\n",
                "* Use the [StandardScaler](https://scikit-learn.org/stable/modules/preprocessing.html#standardization-or-mean-removal-and-variance-scaling) preprocessor provided by scikit-learn to do the standardization for you. \n",
                "  * Note that you first `fit` it to the data so it can compute the mean/standard deviation and then `transform` to actually change the data. You'll find the examples on this documentation very helpful.\n",
                "* You should only do this transformation on the features we are using of the data (not any of the other data inputs or the target values). \n",
                "* This next note will sound a bit weird, but it's an important step. **You should only do the standardization calculation (e.g., the mean and the standard deviation) on the *training* set and use those statistics to scale the validation and test set**. In other words, the validation and test set should be standardized using the statistics from the training data so that you are using a consistent transformation throughout. This is important to do since you need to apply the same transformation process to every step of the data and you shouldn't use statistics from data outside of your training set in your transformations.\n",
                "\n",
                "\n",
                "**Store the transformed results in `train_sales`, `validation_sales`, `test_sales` respectively (thus overwriting your old, unscaled feature).**\n",
                "\n",
                "*Note: For this problem, we will make the correctness autograder test public to help avoid downstream issues.*"
            ]
        },
        {
            "cell_type": "code",
            "execution_count": 96,
            "metadata": {},
            "outputs": [],
            "source": [
                "### edTest(test_standardization) ###\n",
                "from sklearn import preprocessing\n",
                "\n",
                "# TODO: Check if Gradescope grader passes these\n",
                "# If not, change fit() and transform()s to only use _sales[selected_inputs]\n",
                "# scaler = preprocessing.StandardScaler().fit(train_sales)\n",
                "# train_sales = scaler.transform(train_sales)\n",
                "# validation_sales = scaler.transform(validation_sales)\n",
                "# test_sales = scaler.transform(test_sales)\n",
                "\n",
                "scaler = preprocessing.StandardScaler().fit(train_sales[selected_inputs])\n",
                "train_sales = scaler.transform(train_sales[selected_inputs])\n",
                "validation_sales = scaler.transform(validation_sales[selected_inputs])\n",
                "test_sales = scaler.transform(test_sales[selected_inputs])"
            ]
        },
        {
            "attachments": {},
            "cell_type": "markdown",
            "metadata": {},
            "source": [
                "# Linear Regression \n",
                "## Q3) Linear Regression Baseline\n",
                "\n",
                "As a baseline, we will first, train a regular `LinearRegression` model on the data using the features in `all_features` and report its **test RMSE**. Write the code in the cell below to calculate the answer. Save your result in a variable named `test_rmse_unregularized`.\n",
                ""
            ]
        },
        {
            "cell_type": "code",
            "execution_count": 101,
            "metadata": {},
            "outputs": [
                {
                    "name": "stdout",
                    "output_type": "stream",
                    "text": "178763.83732467113\n"
                }
            ],
            "source": [
                "### edTest(test_train_linear_regression) ###\n",
                "from sklearn.linear_model import LinearRegression\n",
                "from sklearn.metrics import mean_squared_error\n",
                "# TODO Train a linear regression model (you'll likely need to import some things)\n",
                "model = LinearRegression().fit(train_sales, train_price)\n",
                "pred = model.predict(train_sales)\n",
                "test_rmse_unregularized = mean_squared_error(train_price, pred, squared=False)\n",
                "# print(test_rmse_unregularized)"
            ]
        },
        {
            "attachments": {},
            "cell_type": "markdown",
            "metadata": {},
            "source": [
                "--- \n",
                "# Ridge Regression\n",
                "At this point, you might be looking forward at the homework and seeing how long it is! We want to provide a lot of instruction so you aren't left completely in the dark on what to do, but we are also trying to avoid just giving you a bunch of starter code and just having you fill in the blanks. This section is very long because it tries to give really detailed instructions on what to compute. The next section on LASSO has almost exactly the same steps so it will be a lot easier doing that part of the assignment!\n",
                "\n",
                "In this section, we will do some **hyper-parameter tuning** to find the optimal setting of the regularization constant $\\lambda$ for Ridge Regression. Remember that $\\lambda$ is the coefficient that controls how much the model is penalized for having large weights in the optimization function.\n",
                "\n",
                "$$\\hat{w}_{ridge} = \\min_w MSE(w) + \\lambda \\left\\lVert w \\right\\rVert_2^2$$\n",
                "\n",
                "where $\\left\\lVert w \\right\\rVert_2^2 = \\sum_{j=0}^D w_j^2$ is the $l_2$-norm of the parameters. By default, `sklearn`'s `Ridge` class does not regularize the intercept.\n",
                "\n",
                "## Q4) Train Ridge Models\n",
                "For this part of the assignment, you will be writing code to find the optimal setting of the penalty $\\lambda$. Below, we describe what steps you will want to have in your code to compute these values:\n",
                "\n",
                "*Implementation Details*\n",
                "* Use the following choices of $l_2$ penalty: $[10^{-5}, 10^{-4}, ..., 10^4, 10^5]$. In Python, you can create a list of these numbers using `np.logspace(-5, 5, 11, base=10)`. \n",
                "* Use the [Ridge](https://scikit-learn.org/stable/modules/generated/sklearn.linear_model.Ridge.html#sklearn.linear_model.Ridge) class from sklearn to train a Ridge Regression model on the **training** data. The **only** parameters you need to pass when constructing the Ridge model are $\\lambda$, which lets you specify what you want the $l_2$ penalty to be.\n",
                "* Evaluate both the training error and the validation error for the model by reporting the RMSE of each dataset.\n",
                "* **Put all of your results in a pandas `DataFrame` named `ridge_data`** so you can analyze them later. The `ridge_data` should have a row for each $l_2$ penalty you tried and should have the following columns:\n",
                "  * `l2_penalty`: The $l_2$ penalty for that row\n",
                "  * `model`: The actual `Ridge` model object that was trained with that $l_2$ penalty\n",
                "  * `train_rmse`: The training RMSE for that model\n",
                "  * `validation_rmse`: The validation RMSE for that model\n",
                "* To build up this `DataFrame`, we recommend first building up a list of dictionary objects and then converting that to a `DataFrame`. For example, the following code would produce the following `pandas.DataFrame`.\n",
                "```python\n",
                "data = []\n",
                "for i in range(3):\n",
                "    data.append({\n",
                "        'col_a': i,\n",
                "        'col_b': 2 * i\n",
                "    }\n",
                "data_frame = pd.DataFrame(data)\n",
                "```\n",
                "\n",
                "| col_a | col_b | \n",
                "|-------|-------|\n",
                "|   0   |   0   | \n",
                "|   1   |   2   | \n",
                "|   2   |   4   |\n",
                "\n",
                "*Hints: Here is a development strategy that you might find helpful*\n",
                "* You will need a loop to loop over the possible $l_2$ penalties. Try writing the code without a loop first with just one setting of $\\lambda$. Try writing a lot of the code without a loop first if you're stuck to help you figure out how the pieces go together. You can safely ignore building up the result `DataFrame` at first, just print all the information out to start! \n",
                "* If you are running into troubles writing your loop, try to print values out to investigate what's going wrong.\n",
                "* Remember to use RMSE for calculating the error!\n",
                ""
            ]
        },
        {
            "cell_type": "code",
            "execution_count": 125,
            "metadata": {},
            "outputs": [],
            "source": [
                "### edTest(test_ridge) ###\n",
                "from sklearn.linear_model import Ridge\n",
                "l2_lambdas = np.logspace(-5, 5, 11, base = 10)\n",
                "\n",
                "# TODO Implement code to evaluate Ridge Regression with various l2 Penalties\n",
                "data = []\n",
                "for l in l2_lambdas:\n",
                "  ridge_model = Ridge(alpha=l)\n",
                "  ridge_model.fit(train_sales, train_price)\n",
                "  train_pred = ridge_model.predict(train_sales)\n",
                "  train_rmse = mean_squared_error(train_price, train_pred, squared=False)\n",
                "  val_pred = ridge_model.predict(validation_sales)\n",
                "  val_rmse = mean_squared_error(validation_price, val_pred, squared=False)\n",
                "  data.append({\n",
                "    'l2_penalty': l,\n",
                "    'model': ridge_model,\n",
                "    'train_rmse': train_rmse,\n",
                "    'validation_rmse': val_rmse\n",
                "  }) \n",
                "ridge_data = pd.DataFrame(data)\n",
                "# ridge_data.head()"
            ]
        },
        {
            "attachments": {},
            "cell_type": "markdown",
            "metadata": {},
            "source": [
                "Next, let's investigate how the penalty affected the train and validation error by running the following plotting code. "
            ]
        },
        {
            "cell_type": "code",
            "execution_count": 108,
            "metadata": {},
            "outputs": [
                {
                    "data": {
                        "text/plain": "\u003cmatplotlib.legend.Legend at 0x7fa2c14376d0\u003e"
                    },
                    "execution_count": 108,
                    "metadata": {},
                    "output_type": "execute_result"
                },
                {
                    "data": {
                        "image/png": "[encoded data removed]",
                        "text/plain": "\u003cFigure size 432x288 with 1 Axes\u003e"
                    },
                    "metadata": {
                        "needs_background": "light"
                    },
                    "output_type": "display_data"
                }
            ],
            "source": [
                "# Plot the validation RMSE as a blue line with dots\n",
                "plt.plot(ridge_data['l2_penalty'], ridge_data['validation_rmse'], \n",
                "         'b-^', label='Validation')\n",
                "# Plot the train RMSE as a red line dots\n",
                "plt.plot(ridge_data['l2_penalty'], ridge_data['train_rmse'], \n",
                "         'r-o', label='Train')\n",
                "\n",
                "# Make the x-axis log scale for readability\n",
                "plt.xscale('log')\n",
                "\n",
                "# Label the axes and make a legend\n",
                "plt.xlabel('l2_penalty')\n",
                "plt.ylabel('RMSE')\n",
                "plt.legend()"
            ]
        },
        {
            "attachments": {},
            "cell_type": "markdown",
            "metadata": {},
            "source": [
                "Next, we want to actually look at which model we think will perform best. First we define a helper function that will be used to inspect the model parameters."
            ]
        },
        {
            "cell_type": "code",
            "execution_count": 109,
            "metadata": {},
            "outputs": [],
            "source": [
                "def print_coefficients(model, features):\n",
                "    \"\"\"\n",
                "    This function takes in a model column and a features column. \n",
                "    And prints the coefficient along with its feature name.\n",
                "    \"\"\"\n",
                "    feats = list(zip(features, model.coef_))\n",
                "    print(*feats, sep = \"\\n\")"
            ]
        },
        {
            "attachments": {},
            "cell_type": "markdown",
            "metadata": {},
            "source": [
                "## Q5 - Inspecting Coefficients\n",
                "In the cell below, write code that uses the `ridge_data` `DataFrame` to select which L2 penalty we would choose based on the evaluations we did in the previous section. You should print out the following values to help you answer the next questions! \n",
                "* **Q5.1** -  The best L2 penalty based on the model evaluations. Save this L2 penalty in a variable called `best_l2`.\n",
                "* **Q5.2** - Take the best model and evaluate its error on the **test** dataset. Report the number as an RMSE stored in a variable called `test_rmse_ridge`.\n",
                "* **Q5.2** ** Save the number of coefficients that are 0 in a variable called `num_zero_coeffs_ridge` (Hint: Call the `print_coefficients` function passing in the model itself and the features used so you can look at all of its coefficient values.).\n",
                "\n",
                "Use the next cell answer all three questions. You should also print out the values so you can inspect them.\n",
                "\n",
                "To do this in `pandas`, you'll need to use the `idxmin()` function to find the index of the smallest value in a column and the `loc` property to access that index. As an example, suppose we had a `DataFrame` named `df`:\n",
                "\n",
                "| a | b | c |\n",
                "|---|---|---|\n",
                "| 1 | 2 | 3 |\n",
                "| 2 | 1 | 3 |\n",
                "| 3 | 2 | 1 |\n",
                "\n",
                "If we wrote the code \n",
                "```python\n",
                "index = df['b'].idxmin()\n",
                "row = df.loc[index]\n",
                "```\n",
                "\n",
                "It would first find the index of the smallest value in the `b` column and then uses the `.loc` property of the `DataFrame` to access that particular row. It will return a `Series` object (basically a Python dictionary) which means you can use syntax like `row['a']` to access a particular column of that row."
            ]
        },
        {
            "cell_type": "code",
            "execution_count": 132,
            "metadata": {},
            "outputs": [
                {
                    "name": "stdout",
                    "output_type": "stream",
                    "text": "L2 Penalty 100.0\nTest RSME 206871.67175169295\nNum Zero Coeffs 0\n('bedrooms', -12366.127696885078)\n('bathrooms', 49264.855137412174)\n('sqft_living', 54862.36432798896)\n('sqft_lot', -3983.888792890354)\n('floors', 14958.09449729105)\n('waterfront', 30296.257462307916)\n('view', 28723.81297472064)\n('condition', -577.9849776131801)\n('grade', 82134.45233643746)\n('sqft_above', 45410.03415702137)\n('sqft_basement', 28938.574242907936)\n('yr_built', -39377.146098071054)\n('yr_renovated', 23733.0033943821)\n"
                }
            ],
            "source": [
                "### edTest(test_ridge_analysis) ###\n",
                "\n",
                "# TODO Print information about best l2 model\n",
                "index = ridge_data['validation_rmse'].idxmin()\n",
                "row = ridge_data.loc[index]\n",
                "\n",
                "best_l2 = row['l2_penalty']\n",
                "\n",
                "pred = row['model'].predict(test_sales)\n",
                "test_rmse_ridge = mean_squared_error(test_price, pred, squared=False)\n",
                "num_zero_coeffs_ridge = 0\n",
                "\n",
                "print('L2 Penalty',  best_l2)\n",
                "print('Test RSME', test_rmse_ridge)\n",
                "print('Num Zero Coeffs', num_zero_coeffs_ridge)\n",
                "print_coefficients(row['model'], selected_inputs)"
            ]
        },
        {
            "attachments": {},
            "cell_type": "markdown",
            "metadata": {},
            "source": [
                "--- \n",
                "# LASSO Regression\n",
                "In this section you will do basically the exact same analysis you did with Ridge Regression, but using LASSO Regression instead. It's okay if your code for this section looks very similar to your code for the last section. \n",
                "\n",
                "Remember that for LASSO we choose the parameters that minimize this quality metric instead \n",
                "\n",
                "$$\\hat{w}_{LASSO} = \\min_w MSE(w) + \\lambda \\left\\lVert w \\right\\rVert_1$$\n",
                "\n",
                "where $\\left\\lVert w \\right\\rVert_1 = \\sum_{j=0}^D \\lVert w_j \\rVert$ is the L1 norm of the parameter vector.\n",
                "\n",
                "## Q6) Train LASSO Models\n",
                "We will use the same set of instructions for LASSO as we did for Ridge, except for the following differences. Please refer back to the Ridge Regression instructions and your code to see how these differences fit in!\n",
                "\n",
                "* Use the [Lasso](https://scikit-learn.org/stable/modules/generated/sklearn.linear_model.Lasso.html#sklearn.linear_model.Lasso) model. Like before, the only parameters you need to pass in are $\\lambda$ for the L1 penalty.\n",
                "* The range L1 penalties should be $[10, 10^2, ..., 10^7]$. In Python, this is `np.logspace(1, 7, 7, base=10)`.\n",
                "* The result should be stored in a `DataFrame` named `lasso_data`. All the columns should have the same name and corresponding values except the penalty column should be called `l1_penalty`.\n",
                "* It is okay if your code prints some `ConvergenceWarning` warnings, these should not impact your results!.\n",
                "\n",
                "You do not need to worry about your code being redundant with the last section for this part."
            ]
        },
        {
            "cell_type": "code",
            "execution_count": 128,
            "metadata": {},
            "outputs": [
                {
                    "name": "stderr",
                    "output_type": "stream",
                    "text": "/usr/lib/python3.10/site-packages/sklearn/linear_model/_coordinate_descent.py:647: ConvergenceWarning: Objective did not converge. You might want to increase the number of iterations, check the scale of the features or consider increasing regularisation. Duality gap: 1.539e+11, tolerance: 1.737e+09\n  model = cd_fast.enet_coordinate_descent(\n"
                }
            ],
            "source": [
                "### edTest(test_lasso) ###\n",
                "from sklearn.linear_model import Lasso\n",
                "from sklearn.metrics import mean_squared_error\n",
                "l1_lambdas = np.logspace(1, 7, 7, base=10)\n",
                "\n",
                "# TODO Implement code to evaluate LASSO Regression with various L1 penalties\n",
                "data = []\n",
                "for l in l1_lambdas:\n",
                "  lasso_model = Lasso(alpha=l)\n",
                "  lasso_model.fit(train_sales, train_price)\n",
                "  train_pred = lasso_model.predict(train_sales)\n",
                "  train_rmse = mean_squared_error(train_price, train_pred, squared=False)\n",
                "  val_pred = lasso_model.predict(validation_sales)\n",
                "  val_rmse = mean_squared_error(validation_price, val_pred, squared=False)\n",
                "  data.append({\n",
                "    'l1_penalty': l,\n",
                "    'model': lasso_model,\n",
                "    'train_rmse': train_rmse,\n",
                "    'validation_rmse': val_rmse\n",
                "  }) \n",
                "\n",
                "lasso_data = pd.DataFrame(data)\n",
                "# lasso_data.head()"
            ]
        },
        {
            "attachments": {},
            "cell_type": "markdown",
            "metadata": {},
            "source": [
                "Like before, let's look at how the L1 penalty affects the performance."
            ]
        },
        {
            "cell_type": "code",
            "execution_count": 129,
            "metadata": {},
            "outputs": [
                {
                    "data": {
                        "text/plain": "\u003cmatplotlib.legend.Legend at 0x7fa2b8d0e4a0\u003e"
                    },
                    "execution_count": 129,
                    "metadata": {},
                    "output_type": "execute_result"
                },
                {
                    "data": {
                        "image/png": "[encoded data removed]",
                        "text/plain": "\u003cFigure size 432x288 with 1 Axes\u003e"
                    },
                    "metadata": {
                        "needs_background": "light"
                    },
                    "output_type": "display_data"
                }
            ],
            "source": [
                "# Plot the validation RMSE as a blue line with dots\n",
                "\n",
                "plt.plot(lasso_data['l1_penalty'], lasso_data['validation_rmse'],\n",
                "         'b-^', label='Validation')\n",
                "\n",
                "# Plot the train RMSE as a red line dots\n",
                "plt.plot(lasso_data['l1_penalty'], lasso_data['train_rmse'],\n",
                "         'r-o', label='Train')\n",
                "\n",
                "# Make the x-axis log scale for readability\n",
                "plt.xscale('log')\n",
                "\n",
                "# Label the axes and make a legend\n",
                "plt.xlabel('l1_penalty')\n",
                "plt.ylabel('RMSE')\n",
                "plt.legend()"
            ]
        },
        {
            "attachments": {},
            "cell_type": "markdown",
            "metadata": {},
            "source": [
                "## Q7 - Inspecting Coefficients\n",
                "Like before, in the cell below, write code that uses the `lasso_data` `DataFrame` to select which L1 penalty we would choose based on the evaluations we did in the previous section. You should print out the following values to help you answer the next questions! \n",
                "\n",
                "* **Q7.1** -  TThe best L1 penalty based on the model evaluations. Save this L1 penalty in a variable called `best_l1`.\n",
                "* **Q7.2** - Take the best model and evaluate it on the **test** dataset and report its RMSE. Report the number as an RMSE stored in a variable called `test_rmse_lasso`.\n",
                "* **Q7.3** - Call the `print_coefficients` function passing in the model itself and the features used so you can look at all of its coefficient values. Note some of the values are `-0.0` which is the same as `0.0` for our purposes. You should save the number of coefficients that are 0 in a variable called `num_zero_coeffs_lasso`."
            ]
        },
        {
            "cell_type": "code",
            "execution_count": 135,
            "metadata": {},
            "outputs": [
                {
                    "name": "stdout",
                    "output_type": "stream",
                    "text": "Best L1 Penalty 10000.0\nTest RMSE 200596.47826990145\nNum Zero Coeffs 5\n('bedrooms', -46843.87564106121)\n('bedrooms_square', 77729.49183822582)\n('bedrooms_sqrt', 112060.90656869787)\n('bathrooms', -0.0)\n('bathrooms_square', 0.0)\n('bathrooms_sqrt', 38661.343233354535)\n('sqft_living', 7720.5129266452695)\n('sqft_living_square', -0.0)\n('sqft_living_sqrt', 160479.58204194126)\n('sqft_lot', 0.0)\n('sqft_lot_square', 0.0)\n('sqft_lot_sqrt', -102372.1967771964)\n('floors', 9490.20316525962)\n"
                }
            ],
            "source": [
                "### edTest(test_lasso_analysis) ###\n",
                "\n",
                "# TODO Print information about best L1 model\n",
                "index = lasso_data['validation_rmse'].idxmin()\n",
                "row = lasso_data.loc[index]\n",
                "best_l1 = row['l1_penalty']\n",
                "\n",
                "pred = row['model'].predict(test_sales)\n",
                "test_rmse_lasso = mean_squared_error(test_price, pred, squared=False)\n",
                "num_zero_coeffs_lasso = 5\n",
                "\n",
                "print('Best L1 Penalty', best_l1)\n",
                "print('Test RMSE', test_rmse_lasso)\n",
                "print('Num Zero Coeffs', num_zero_coeffs_lasso)\n",
                "print_coefficients(row['model'], all_features)"
            ]
        },
        {
            "attachments": {},
            "cell_type": "markdown",
            "metadata": {},
            "source": [
                "Let's look at which coefficients ended up having a 0 coefficient. In the cell below, we print the name of all features with coefficient 0. Note, we actually have to check if it is near 0 since numeric computations in Python sometimes yield slight rounding errors (e.g., how 1/3 is .333333333333 and that can't be represented precisely in a computer)\n",
                ""
            ]
        },
        {
            "attachments": {},
            "cell_type": "markdown",
            "metadata": {},
            "source": [
                ""
            ]
        },
        {
            "cell_type": "code",
            "execution_count": 136,
            "metadata": {},
            "outputs": [
                {
                    "name": "stdout",
                    "output_type": "stream",
                    "text": "bathrooms\nbathrooms_square\nsqft_living_square\nsqft_lot\nsqft_lot_square\n"
                }
            ],
            "source": [
                "# Note: You will need to replace row['model'] with code similar to the last cell\n",
                "# to get the best model from the table\n",
                "\n",
                "for feature, coef in zip(all_features, row['model'].coef_):\n",
                "  if abs(coef) \u003c= 10 ** -17:\n",
                "    print(feature)"
            ]
        }
    ]
}
